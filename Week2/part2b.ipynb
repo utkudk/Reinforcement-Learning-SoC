{
 "cells": [
  {
   "attachments": {},
   "cell_type": "markdown",
   "metadata": {},
   "source": [
    "# Part IIB: Solving Tic-Tac-Toe using $\\varepsilon$-soft On-Policy Techniques\n",
    "\n",
    "- Here, you will implement an On-Policy algorithm using $\\varepsilon$-soft policies in order to make a Tic-Tac-Toe engine capable of playing Tic-Tac-Toe on an $N \\times N$ board.\n",
    "\n",
    "- You can read about the algorithm to be used in [my notes](../report.pdf) or in [Sutton and Barto](../SuttonBarto.pdf).\n",
    "\n",
    "- The Tic-Tac-Toe engine must simulate episodes before hand and used the knowledge it gained to play against the human player.\n",
    "\n",
    "- Since Tic-Tac-Toe is a two player game, the opponent must be simulated as part of the environment to convert this into an MDP. This can be done in two ways, either you can make the opponent another instance of the engine, or the opponent can play randomly. You will implement both these techniques."
   ]
  },
  {
   "cell_type": "code",
   "execution_count": null,
   "metadata": {},
   "outputs": [],
   "source": [
    "class TicTacToeEngine:\n",
    "    '''\n",
    "    Implement the Engine here, add whatever helper classes you may need.\n",
    "    '''\n",
    "    pass"
   ]
  }
 ],
 "metadata": {
  "language_info": {
   "name": "python"
  },
  "orig_nbformat": 4
 },
 "nbformat": 4,
 "nbformat_minor": 2
}
