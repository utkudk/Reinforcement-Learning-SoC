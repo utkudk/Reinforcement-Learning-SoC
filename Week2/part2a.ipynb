{
 "cells": [
  {
   "attachments": {},
   "cell_type": "markdown",
   "metadata": {},
   "source": [
    "# Part IIA: Explicitly solving Tic-Tac-Toe with the Minimax Algorithm\n",
    "\n",
    "- To know more about the Minimax algorithm, you can read [the notes I have prepared](../report.pdf) or the [Wikipedia article on it](https://en.wikipedia.org/wiki/Minimax). It is a very general tool for solving decision-making problems, however, it can become very computationally expensive. We will analyze this algorithm for the special case of finite terminating two player games.\n",
    "\n",
    "- Tic-Tac-Toe is a finite terminating two player game that can only end in a loss for one player (and a win for the other) or in a tie. It can be shown that for every such game, at least one of the players has a non-losing strategy (some of you may see this proof again later in CS 207 - it's basically structural induction over Game Trees). This includes games such as Chess!\n",
    "\n",
    "- The algorithm is based on forming the game tree: The root of this tree is the starting position, and the children of each node are the positions reachable from the node position. If the game is lost/won at a position, it is terminated, ie, the corresponding node has no children.\n",
    "\n",
    "- Nodes at even levels (the root is at level 0) are the positions when the first player (call her A) is to play and nodes at the odd levels are the positions when the second player (call her B) is to play.\n",
    "\n",
    "- Now, we say a node is winning iff there exists a strategy for the player of that node such that no matter what the other player does, she will win. A node is losing iff there if no matter what the player of the node does, the other player can play in such a way that she loses. If neither are true, we say the node is drawn.\n",
    "\n",
    "- Now, if a node is winning, then there must exist a move the node player makes such that from then on the other player is losing, even if she plays perfectly. A move is a transition from a parent node to a child node (remember parent player and child player are different).\n",
    "\n",
    "- - So, a node is winning if there exists a child node that is losing.\n",
    "- - A node is drawn if there exists no losing child node but there does exist a drawn child node.\n",
    "- - A node is losing if every child node is winning.\n",
    "\n",
    "- Since we know the statuses of all the leaf nodes (all either winning, losing or drawn), we can get the statuses of every node (ie every position) from the bottom up, recursively. Hence, every node is either winning, losing or drawn, including the root node.\n",
    "\n",
    "- This proves the statement above, and this algorithm for finding the node statuses is known as the Minimax algorithm.\n",
    "\n",
    "- The disadvantage is that this algorithm is extremely computationally expensive. It's training time (time taken to find out status of each node) is proportional to the number of nodes, ie, the number of reachable game states. For a game like Chess, this is on the order of 10^40!\n",
    "\n",
    "- Therefore, the minimax algorithm is not really used, except for tiny problems, and instead, real reinforcement learning algorithms are used, which may be less accurate, but are way less computationally expensive."
   ]
  },
  {
   "cell_type": "code",
   "execution_count": null,
   "metadata": {},
   "outputs": [],
   "source": [
    "class TicTacToeEngine:\n",
    "    '''\n",
    "    Write a Python program that can play an NxN game of Tic-Tac-Toe optimally against a human player (a Tic-Tac-Toe engine, essentially).\n",
    "\n",
    "    The Tic-Tac-Toe engine should have already learnt the optimal strategy for playing NxN Tic-Tac-Toe via the Minimax Algorithm.\n",
    "\n",
    "    Again, add any helper classes you require.\n",
    "    '''\n",
    "    pass"
   ]
  }
 ],
 "metadata": {
  "language_info": {
   "name": "python"
  },
  "orig_nbformat": 4
 },
 "nbformat": 4,
 "nbformat_minor": 2
}
